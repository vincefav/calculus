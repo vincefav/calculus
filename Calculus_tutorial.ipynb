{
 "cells": [
  {
   "cell_type": "code",
   "execution_count": 1,
   "metadata": {
    "collapsed": false
   },
   "outputs": [
    {
     "name": "stdout",
     "output_type": "stream",
     "text": [
      "Populating the interactive namespace from numpy and matplotlib\n"
     ]
    }
   ],
   "source": [
    "import numpy as np\n",
    "import pandas as pd\n",
    "import seaborn as sns\n",
    "import matplotlib.pyplot as plt\n",
    "%pylab inline"
   ]
  },
  {
   "cell_type": "markdown",
   "metadata": {},
   "source": [
    "Let's start simple. How to do you code a mathematical function in python? "
   ]
  },
  {
   "cell_type": "code",
   "execution_count": 2,
   "metadata": {
    "collapsed": false
   },
   "outputs": [
    {
     "data": {
      "text/plain": [
       "15"
      ]
     },
     "execution_count": 2,
     "metadata": {},
     "output_type": "execute_result"
    }
   ],
   "source": [
    "def f(x):\n",
    "    return x + 5\n",
    "\n",
    "f(10)"
   ]
  },
  {
   "cell_type": "markdown",
   "metadata": {},
   "source": [
    "But do we really want to go back and edit f(x) every time we want to do something different? We can fix this with python's `eval` function. Using `eval` is generally a no-no and introduces security risks, but it's fine for the purposes of this notebook. It will allow us to express the function as a string."
   ]
  },
  {
   "cell_type": "code",
   "execution_count": 3,
   "metadata": {
    "collapsed": false
   },
   "outputs": [
    {
     "data": {
      "text/plain": [
       "10"
      ]
     },
     "execution_count": 3,
     "metadata": {},
     "output_type": "execute_result"
    }
   ],
   "source": [
    "function = 'x + 5'\n",
    "\n",
    "def f(x, function=function):\n",
    "    return eval(function)\n",
    "\n",
    "f(5)"
   ]
  },
  {
   "cell_type": "code",
   "execution_count": 4,
   "metadata": {
    "collapsed": false
   },
   "outputs": [
    {
     "data": {
      "text/plain": [
       "22"
      ]
     },
     "execution_count": 4,
     "metadata": {},
     "output_type": "execute_result"
    }
   ],
   "source": [
    "f(10, '2*x + 2')"
   ]
  },
  {
   "cell_type": "markdown",
   "metadata": {},
   "source": [
    "# Graphing"
   ]
  },
  {
   "cell_type": "code",
   "execution_count": 5,
   "metadata": {
    "collapsed": false
   },
   "outputs": [
    {
     "data": {
      "image/png": "[encoded data removed]",
      "text/plain": [
       "<matplotlib.figure.Figure at 0x29035f1abe0>"
      ]
     },
     "metadata": {},
     "output_type": "display_data"
    }
   ],
   "source": [
    "def graph(function=function, tangent=None, xlim=(-10,20), ylim=None):\n",
    "    df = pd.DataFrame()\n",
    "\n",
    "    df['x'] = np.arange(xlim[0],xlim[1],(xlim[1]-xlim[0])/100)\n",
    "    df['y'] = eval(function.replace('x', \"df['x']\"))\n",
    "    df = df.set_index('x')\n",
    "\n",
    "    df.y.plot(ylim=ylim)\n",
    "    \n",
    "    plt.axhline(0, color='black')\n",
    "    plt.axvline(0, color='black')\n",
    "\n",
    "graph('x**2 - 20')"
   ]
  },
  {
   "cell_type": "code",
   "execution_count": 6,
   "metadata": {
    "collapsed": false
   },
   "outputs": [],
   "source": [
    "def limit(x, function=function):\n",
    "    lower_limit = f(x - .0000001, function=function)\n",
    "    upper_limit = f(x + .0000001, function=function)\n",
    "    if np.abs(upper_limit - lower_limit) > 100000:\n",
    "        print('No limit exists')\n",
    "        return None\n",
    "    else:\n",
    "        L = (lower_limit + upper_limit)/2\n",
    "        return round(L, 4)"
   ]
  },
  {
   "cell_type": "markdown",
   "metadata": {},
   "source": [
    "Let's unpack what this function is doing. It gets arbitarily close to f(x) from both above and below, and then takes the average of f(x) at those two values. If there's a massive difference between the upper and lower limits, then no limit exists and it returns `None`."
   ]
  },
  {
   "cell_type": "code",
   "execution_count": 7,
   "metadata": {
    "collapsed": false
   },
   "outputs": [
    {
     "data": {
      "text/plain": [
       "14.0"
      ]
     },
     "execution_count": 7,
     "metadata": {},
     "output_type": "execute_result"
    }
   ],
   "source": [
    "function = 'x + 5'\n",
    "\n",
    "limit(9, function=function)"
   ]
  },
  {
   "cell_type": "code",
   "execution_count": 8,
   "metadata": {
    "collapsed": false
   },
   "outputs": [
    {
     "name": "stdout",
     "output_type": "stream",
     "text": [
      "No limit exists\n"
     ]
    }
   ],
   "source": [
    "limit(0, '1/x')"
   ]
  },
  {
   "cell_type": "markdown",
   "metadata": {},
   "source": [
    "You can do just about anything you need to with this function. For example, what's the limit of $f(x) = 1/x$ as $x$ approaches infinity?"
   ]
  },
  {
   "cell_type": "code",
   "execution_count": 9,
   "metadata": {
    "collapsed": false
   },
   "outputs": [
    {
     "data": {
      "text/plain": [
       "0.0"
      ]
     },
     "execution_count": 9,
     "metadata": {},
     "output_type": "execute_result"
    }
   ],
   "source": [
    "# Limit of f(x) = 1/x, as x -> infinity\n",
    "limit(np.inf, '1/x')\n",
    "\n",
    "# Exactly what you'd expect..."
   ]
  },
  {
   "cell_type": "code",
   "execution_count": 10,
   "metadata": {
    "collapsed": false
   },
   "outputs": [
    {
     "data": {
      "text/plain": [
       "inf"
      ]
     },
     "execution_count": 10,
     "metadata": {},
     "output_type": "execute_result"
    }
   ],
   "source": [
    "# Limit of f(x) = x, as x -> infinity\n",
    "limit(np.inf, 'x')"
   ]
  },
  {
   "cell_type": "markdown",
   "metadata": {},
   "source": [
    "We can calculate the derivative in a similar way: get arbitrarily close to x and then calculate the slope between that point and x."
   ]
  },
  {
   "cell_type": "code",
   "execution_count": 11,
   "metadata": {
    "collapsed": false
   },
   "outputs": [],
   "source": [
    "def f(x, function=function):\n",
    "    return eval(function)\n",
    "\n",
    "def derivative(x, function=function):\n",
    "    h = run = 1/1e10  # also calling it \"run\" so it's clear what we're calculating\n",
    "    rise = f(x+h, function=function) - f(x, function=function)\n",
    "    return round(rise/run,4)"
   ]
  },
  {
   "cell_type": "code",
   "execution_count": 12,
   "metadata": {
    "collapsed": false
   },
   "outputs": [
    {
     "data": {
      "text/plain": [
       "151.9999"
      ]
     },
     "execution_count": 12,
     "metadata": {},
     "output_type": "execute_result"
    }
   ],
   "source": [
    "x = 4\n",
    "\n",
    "derivative(x, '3*x**3 + x**2')"
   ]
  },
  {
   "cell_type": "markdown",
   "metadata": {},
   "source": [
    "Now let's make an improved graph function that can also plot derivatives."
   ]
  },
  {
   "cell_type": "code",
   "execution_count": 13,
   "metadata": {
    "collapsed": false
   },
   "outputs": [
    {
     "data": {
      "text/plain": [
       "152"
      ]
     },
     "execution_count": 13,
     "metadata": {},
     "output_type": "execute_result"
    }
   ],
   "source": [
    "# We get the same answer calculating it manually.\n",
    "9*x**2 + 8"
   ]
  },
  {
   "cell_type": "code",
   "execution_count": 14,
   "metadata": {
    "collapsed": false
   },
   "outputs": [
    {
     "name": "stdout",
     "output_type": "stream",
     "text": [
      "Tangent:\n",
      "y = 298.0x-2068.01\n"
     ]
    },
    {
     "data": {
      "image/png": "[encoded data removed]",
      "text/plain": [
       "<matplotlib.figure.Figure at 0x290365fd780>"
      ]
     },
     "metadata": {},
     "output_type": "display_data"
    }
   ],
   "source": [
    "def graph(function=function, tangent=None, xlim=(-10,20), ylim=None):\n",
    "    df = pd.DataFrame()\n",
    "\n",
    "    df['x'] = np.arange(xlim[0],xlim[1],.1)\n",
    "    df['y'] = eval(function.replace('x', \"df['x']\"))\n",
    "    df = df.set_index('x')\n",
    "\n",
    "    df.y.plot(ylim=ylim)\n",
    "    \n",
    "    if tangent is not None:\n",
    "        # Takes a tangent as an x-value\n",
    "        x_ = tangent\n",
    "        for i in df.index:\n",
    "            if np.isclose(x_, i, atol=.01):\n",
    "                ix = i\n",
    "                y_ = df.get_value(ix, 'y')\n",
    "                break\n",
    "        \n",
    "        m = derivative(x_, function=function)\n",
    "        df['tangent'] = (m*df.index)-(m*x_)+y_\n",
    "        df['tangent'].plot(ylim=ylim, color='red')\n",
    "        \n",
    "        # Print tangent line\n",
    "        print('Tangent:')\n",
    "        print('y = ' + str(round(m,2)) + 'x', end='')\n",
    "        for i in df.index:\n",
    "            if np.isclose(0, i, atol=.01):\n",
    "                y_intercept = round(df.get_value(i, 'tangent'), 2)\n",
    "                print(str(y_intercept))\n",
    "                break\n",
    "    \n",
    "    plt.axhline(0, color='black')\n",
    "    plt.axvline(0, color='black')\n",
    "    \n",
    "graph('(x**3 - (3*x-2) + (x-50) - 20)', tangent=10)"
   ]
  },
  {
   "cell_type": "code",
   "execution_count": 15,
   "metadata": {
    "collapsed": false
   },
   "outputs": [],
   "source": [
    "def integral(xstart, xfinish, function=function, rectangles=100000):\n",
    "    width = (xfinish - xstart)/rectangles\n",
    "    running_sum = 0\n",
    "    for i in range(int(rectangles)):\n",
    "        try:\n",
    "            height = f(xstart + i*width, function=function)\n",
    "            # each rectangle is 1 width after the previous one\n",
    "            area = height * width\n",
    "            running_sum += area\n",
    "        except:\n",
    "            continue\n",
    "    return round(running_sum,4)"
   ]
  },
  {
   "cell_type": "markdown",
   "metadata": {},
   "source": [
    "Simple example to show it's working: calculate the area of a rectangle"
   ]
  },
  {
   "cell_type": "code",
   "execution_count": 16,
   "metadata": {
    "collapsed": false
   },
   "outputs": [
    {
     "data": {
      "text/plain": [
       "50.0"
      ]
     },
     "execution_count": 16,
     "metadata": {},
     "output_type": "execute_result"
    }
   ],
   "source": [
    "# f(x) = 5\n",
    "integral(0,10, '5')"
   ]
  },
  {
   "cell_type": "code",
   "execution_count": 17,
   "metadata": {
    "collapsed": true
   },
   "outputs": [],
   "source": [
    "# f(x) = x^2"
   ]
  },
  {
   "cell_type": "code",
   "execution_count": 18,
   "metadata": {
    "collapsed": false
   },
   "outputs": [
    {
     "data": {
      "text/plain": [
       "21.333"
      ]
     },
     "execution_count": 18,
     "metadata": {},
     "output_type": "execute_result"
    }
   ],
   "source": [
    "integral(0,4, 'x**2')"
   ]
  },
  {
   "cell_type": "markdown",
   "metadata": {
    "collapsed": false
   },
   "source": [
    "It's probably easier to do this in scipy. Here's how."
   ]
  },
  {
   "cell_type": "code",
   "execution_count": 19,
   "metadata": {
    "collapsed": false
   },
   "outputs": [
    {
     "data": {
      "text/plain": [
       "50.0"
      ]
     },
     "execution_count": 19,
     "metadata": {},
     "output_type": "execute_result"
    }
   ],
   "source": [
    "import scipy.integrate as integrate\n",
    "\n",
    "# Returns a tuple: (result, upper bound on the error)\n",
    "result, upper_bound = integrate.quad(lambda x: 5, 0, 10)\n",
    "\n",
    "result"
   ]
  },
  {
   "cell_type": "code",
   "execution_count": 20,
   "metadata": {
    "collapsed": false
   },
   "outputs": [
    {
     "data": {
      "text/plain": [
       "149.33333333333334"
      ]
     },
     "execution_count": 20,
     "metadata": {},
     "output_type": "execute_result"
    }
   ],
   "source": [
    "# Getting fancy!\n",
    "result, upper_bound = integrate.quad(lambda x: (4*x**3 + 2*x**2)/(5*x), 0, 8)\n",
    "\n",
    "result"
   ]
  },
  {
   "cell_type": "code",
   "execution_count": null,
   "metadata": {
    "collapsed": true
   },
   "outputs": [],
   "source": []
  }
 ],
 "metadata": {
  "anaconda-cloud": {},
  "kernelspec": {
   "display_name": "Python [default]",
   "language": "python",
   "name": "python3"
  },
  "language_info": {
   "codemirror_mode": {
    "name": "ipython",
    "version": 3
   },
   "file_extension": ".py",
   "mimetype": "text/x-python",
   "name": "python",
   "nbconvert_exporter": "python",
   "pygments_lexer": "ipython3",
   "version": "3.5.2"
  }
 },
 "nbformat": 4,
 "nbformat_minor": 1
}
